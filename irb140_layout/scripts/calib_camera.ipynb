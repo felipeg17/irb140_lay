{
 "cells": [
  {
   "cell_type": "code",
   "execution_count": 1,
   "metadata": {},
   "outputs": [],
   "source": [
    "import cv2\n",
    "import numpy as np\n",
    "from matplotlib import pyplot as plt\n",
    "import roboticstoolbox as rtb\n",
    "from spatialmath import *\n",
    "from spatialmath.base import *"
   ]
  },
  {
   "cell_type": "code",
   "execution_count": 3,
   "metadata": {},
   "outputs": [
    {
     "data": {
      "text/plain": [
       "<function matplotlib.pyplot.show(*, block=None)>"
      ]
     },
     "execution_count": 3,
     "metadata": {},
     "output_type": "execute_result"
    }
   ],
   "source": [
    "%matplotlib qt\n",
    "im = cv2.imread('photo.jpg')\n",
    "plt.imshow(im[:,:,::-1])\n",
    "plt.show"
   ]
  },
  {
   "cell_type": "code",
   "execution_count": 9,
   "metadata": {},
   "outputs": [],
   "source": [
    "A = np.load('depth.npy')"
   ]
  },
  {
   "cell_type": "code",
   "execution_count": 14,
   "metadata": {},
   "outputs": [
    {
     "data": {
      "text/plain": [
       "254.99998"
      ]
     },
     "execution_count": 14,
     "metadata": {},
     "output_type": "execute_result"
    }
   ],
   "source": [
    "A.max()"
   ]
  },
  {
   "cell_type": "code",
   "execution_count": 2,
   "metadata": {},
   "outputs": [
    {
     "name": "stdout",
     "output_type": "stream",
     "text": [
      "\n"
     ]
    }
   ],
   "source": [
    "# A = np.array([[507.441511, 0, 307.533215],[0, 509.477448, 270.604765],[0, 0, 1]])\n",
    "# A = np.array([[525, 0, 319.5],[0, 525, 239.5],[0, 0, 1]]) # Default calib\n",
    "A = np.array([[554.2547, 0, 320.5],[0, 554.2547, 240.5],[0, 0, 1]]) # Gazebo calib\n",
    "m = np.array([431, 270, 1])\n",
    "print()"
   ]
  },
  {
   "cell_type": "code",
   "execution_count": 28,
   "metadata": {},
   "outputs": [
    {
     "name": "stdout",
     "output_type": "stream",
     "text": [
      "[1. 2. 3.]\n"
     ]
    }
   ],
   "source": [
    "T = np.concatenate((np.eye(3),np.zeros((3,1))),axis=1)\n",
    "M = np.array([1,2,3,1]).T\n",
    "print(T.dot(M))"
   ]
  },
  {
   "cell_type": "code",
   "execution_count": 39,
   "metadata": {},
   "outputs": [
    {
     "name": "stdout",
     "output_type": "stream",
     "text": [
      "0.19691111027975494 -0.010276003816211987\n"
     ]
    }
   ],
   "source": [
    "x = (m[0]-A[0,2])/A[0,0]\n",
    "y = (m[1]-A[1,2])/A[1,1]\n",
    "print(x,y)"
   ]
  },
  {
   "cell_type": "code",
   "execution_count": 39,
   "metadata": {},
   "outputs": [
    {
     "name": "stdout",
     "output_type": "stream",
     "text": [
      "-0.0027063369963303877\n",
      "0.06224575091559892\n",
      "0.0649520879119293\n"
     ]
    }
   ],
   "source": [
    "x1 = 319\n",
    "x2 = 319+36\n",
    "print((x1-A[0,2])/A[0,0])\n",
    "print((x2-A[0,2])/A[0,0])\n",
    "print(((x2-A[0,2])/A[0,0]-(x1-A[0,2])/A[0,0])*(1/1))"
   ]
  },
  {
   "cell_type": "code",
   "execution_count": 65,
   "metadata": {},
   "outputs": [
    {
     "name": "stdout",
     "output_type": "stream",
     "text": [
      "-0.4339160317449722\n",
      "-0.42489490842387084\n",
      "0.009021123321101332\n"
     ]
    }
   ],
   "source": [
    "y1 = 0\n",
    "y2 = 5\n",
    "print((y1-A[1,2])/A[1,1])\n",
    "print((y2-A[1,2])/A[1,1])\n",
    "print(((y2-A[1,2])/A[1,1]-(y1-A[1,2])/A[1,1])*(1/1))"
   ]
  },
  {
   "cell_type": "code",
   "execution_count": 3,
   "metadata": {},
   "outputs": [
    {
     "data": {
      "text/plain": [
       "array([[ 0.  ,  1.  ,  0.  ,  0.49],\n",
       "       [ 1.  , -0.  , -0.  ,  0.25],\n",
       "       [ 0.  ,  0.  , -1.  ,  0.  ],\n",
       "       [ 0.  ,  0.  ,  0.  ,  1.  ]])"
      ]
     },
     "execution_count": 3,
     "metadata": {},
     "output_type": "execute_result"
    }
   ],
   "source": [
    "np.set_printoptions(suppress=True)\n",
    "Tcam = transl(0.49,0.25,0).dot(trotz(np.pi/2)).dot(trotx(np.pi))\n",
    "Tcam"
   ]
  },
  {
   "cell_type": "code",
   "execution_count": 4,
   "metadata": {},
   "outputs": [
    {
     "data": {
      "text/plain": [
       "array([-0.01533591,  0.06765842,  1.        ,  1.        ])"
      ]
     },
     "execution_count": 4,
     "metadata": {},
     "output_type": "execute_result"
    }
   ],
   "source": [
    "pix_x = 312\n",
    "pix_y = 278\n",
    "x_cam = (pix_x-A[0,2])/A[0,0]\n",
    "y_cam = (pix_y-A[1,2])/A[1,1]\n",
    "Pcam = np.array([x_cam, y_cam, 1, 1])\n",
    "Pcam"
   ]
  },
  {
   "cell_type": "code",
   "execution_count": 6,
   "metadata": {},
   "outputs": [
    {
     "data": {
      "text/plain": [
       "array([ 0.55765842,  0.23466409, -1.        ,  1.        ])"
      ]
     },
     "execution_count": 6,
     "metadata": {},
     "output_type": "execute_result"
    }
   ],
   "source": [
    "Pori = Tcam.dot(Pcam)\n",
    "Pori"
   ]
  }
 ],
 "metadata": {
  "interpreter": {
   "hash": "e7370f93d1d0cde622a1f8e1c04877d8463912d04d973331ad4851f04de6915a"
  },
  "kernelspec": {
   "display_name": "Python 3.8.10 64-bit",
   "language": "python",
   "name": "python3"
  },
  "language_info": {
   "codemirror_mode": {
    "name": "ipython",
    "version": 3
   },
   "file_extension": ".py",
   "mimetype": "text/x-python",
   "name": "python",
   "nbconvert_exporter": "python",
   "pygments_lexer": "ipython3",
   "version": "3.8.10"
  },
  "orig_nbformat": 4
 },
 "nbformat": 4,
 "nbformat_minor": 2
}
